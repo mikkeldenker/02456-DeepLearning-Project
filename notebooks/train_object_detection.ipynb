{
  "nbformat": 4,
  "nbformat_minor": 0,
  "metadata": {
    "colab": {
      "name": "train_object_detection.ipynb",
      "provenance": [],
      "collapsed_sections": []
    },
    "kernelspec": {
      "name": "python3",
      "display_name": "Python 3"
    },
    "language_info": {
      "name": "python"
    },
    "accelerator": "GPU"
  },
  "cells": [
    {
      "cell_type": "code",
      "metadata": {
        "id": "-hlY-hstHtfa",
        "colab": {
          "base_uri": "https://localhost:8080/"
        },
        "outputId": "bdbfb7c6-3a10-49fc-835a-3da387f76996"
      },
      "source": [
        "from google.colab import drive\n",
        "drive.mount('/content/drive')"
      ],
      "execution_count": 1,
      "outputs": [
        {
          "output_type": "stream",
          "name": "stdout",
          "text": [
            "Mounted at /content/drive\n"
          ]
        }
      ]
    },
    {
      "cell_type": "code",
      "metadata": {
        "colab": {
          "base_uri": "https://localhost:8080/"
        },
        "id": "u7rpoW3sGGrT",
        "outputId": "c73c932b-8355-4a76-b469-f144219599e4"
      },
      "source": [
        "!rm -rf src/ && rm -rf __MACOSX && unzip src.zip"
      ],
      "execution_count": 3,
      "outputs": [
        {
          "output_type": "stream",
          "name": "stdout",
          "text": [
            "Archive:  src.zip\n",
            "   creating: src/\n",
            "   creating: src/visualization/\n",
            "  inflating: src/.DS_Store           \n",
            "  inflating: __MACOSX/src/._.DS_Store  \n",
            "   creating: src/features/\n",
            "  inflating: src/__init__.py         \n",
            "   creating: src/models/\n",
            "   creating: src/__pycache__/\n",
            "   creating: src/data/\n",
            "  inflating: src/visualization/bbox_on_image_plot.py  \n",
            "  inflating: src/visualization/.gitkeep  \n",
            "  inflating: src/visualization/__init__.py  \n",
            "  inflating: src/visualization/visualize.py  \n",
            "  inflating: src/features/.gitkeep   \n",
            "  inflating: src/features/build_features.py  \n",
            "  inflating: src/features/__init__.py  \n",
            "  inflating: src/models/transforms.py  \n",
            "  inflating: src/models/train_model.py  \n",
            "  inflating: src/models/.gitkeep     \n",
            "  inflating: src/models/TrainModel.py  \n",
            "  inflating: src/models/__init__.py  \n",
            "  inflating: src/models/predict_model.py  \n",
            "   creating: src/models/__pycache__/\n",
            "  inflating: src/models/coco_eval.py  \n",
            "  inflating: src/models/Train_run.py  \n",
            "  inflating: src/models/centroid_tracking.py  \n",
            "  inflating: src/models/engine.py    \n",
            "  inflating: src/models/utils.py     \n",
            "  inflating: src/models/coco_utils.py  \n",
            "  inflating: src/__pycache__/__init__.cpython-39.pyc  \n",
            "  inflating: src/data/.gitkeep       \n",
            "  inflating: src/data/__init__.py    \n",
            "  inflating: src/data/make_dataset.py  \n",
            "   creating: src/data/__pycache__/\n",
            "  inflating: src/data/dataset.py     \n",
            "  inflating: src/models/__pycache__/__init__.cpython-39.pyc  \n",
            "  inflating: src/models/__pycache__/TrainModel.cpython-39.pyc  \n",
            "  inflating: src/models/__pycache__/utils.cpython-39.pyc  \n",
            "  inflating: src/models/__pycache__/coco_utils.cpython-39.pyc  \n",
            "  inflating: src/models/__pycache__/coco_eval.cpython-39.pyc  \n",
            "  inflating: src/models/__pycache__/transforms.cpython-39.pyc  \n",
            "  inflating: src/models/__pycache__/engine.cpython-39.pyc  \n",
            "  inflating: src/data/__pycache__/__init__.cpython-39.pyc  \n",
            "  inflating: src/data/__pycache__/dataset.cpython-39.pyc  \n"
          ]
        }
      ]
    },
    {
      "cell_type": "code",
      "metadata": {
        "colab": {
          "base_uri": "https://localhost:8080/"
        },
        "id": "ZlBAJKLrM_Ht",
        "outputId": "7c09c277-212c-4ac3-d291-aa9a32a150e1"
      },
      "source": [
        "!pip install -r requirements.txt"
      ],
      "execution_count": 4,
      "outputs": [
        {
          "output_type": "stream",
          "name": "stdout",
          "text": [
            "Obtaining file:///content (from -r requirements.txt (line 2))\n",
            "Requirement already satisfied: click in /usr/local/lib/python3.7/dist-packages (from -r requirements.txt (line 5)) (7.1.2)\n",
            "Requirement already satisfied: Sphinx in /usr/local/lib/python3.7/dist-packages (from -r requirements.txt (line 6)) (1.8.5)\n",
            "Requirement already satisfied: coverage in /usr/local/lib/python3.7/dist-packages (from -r requirements.txt (line 7)) (3.7.1)\n",
            "Requirement already satisfied: awscli in /usr/local/lib/python3.7/dist-packages (from -r requirements.txt (line 8)) (1.22.1)\n",
            "Requirement already satisfied: flake8 in /usr/local/lib/python3.7/dist-packages (from -r requirements.txt (line 9)) (4.0.1)\n",
            "Requirement already satisfied: python-dotenv>=0.5.1 in /usr/local/lib/python3.7/dist-packages (from -r requirements.txt (line 10)) (0.19.1)\n",
            "Requirement already satisfied: pillow==8.4.0 in /usr/local/lib/python3.7/dist-packages (from -r requirements.txt (line 11)) (8.4.0)\n",
            "Requirement already satisfied: torch==1.10.0 in /usr/local/lib/python3.7/dist-packages (from -r requirements.txt (line 12)) (1.10.0)\n",
            "Requirement already satisfied: numpy in /usr/local/lib/python3.7/dist-packages (from -r requirements.txt (line 13)) (1.19.5)\n",
            "Requirement already satisfied: torchvision in /usr/local/lib/python3.7/dist-packages (from -r requirements.txt (line 14)) (0.11.1)\n",
            "Requirement already satisfied: utils in /usr/local/lib/python3.7/dist-packages (from -r requirements.txt (line 15)) (1.0.1)\n",
            "Requirement already satisfied: pycocotools in /usr/local/lib/python3.7/dist-packages (from -r requirements.txt (line 16)) (2.0.2)\n",
            "Requirement already satisfied: opencv-python==4.5.4.58 in /usr/local/lib/python3.7/dist-packages (from -r requirements.txt (line 17)) (4.5.4.58)\n",
            "Requirement already satisfied: typing-extensions in /usr/local/lib/python3.7/dist-packages (from torch==1.10.0->-r requirements.txt (line 12)) (3.7.4.3)\n",
            "Requirement already satisfied: docutils>=0.11 in /usr/local/lib/python3.7/dist-packages (from Sphinx->-r requirements.txt (line 6)) (0.15.2)\n",
            "Requirement already satisfied: snowballstemmer>=1.1 in /usr/local/lib/python3.7/dist-packages (from Sphinx->-r requirements.txt (line 6)) (2.1.0)\n",
            "Requirement already satisfied: sphinxcontrib-websupport in /usr/local/lib/python3.7/dist-packages (from Sphinx->-r requirements.txt (line 6)) (1.2.4)\n",
            "Requirement already satisfied: alabaster<0.8,>=0.7 in /usr/local/lib/python3.7/dist-packages (from Sphinx->-r requirements.txt (line 6)) (0.7.12)\n",
            "Requirement already satisfied: six>=1.5 in /usr/local/lib/python3.7/dist-packages (from Sphinx->-r requirements.txt (line 6)) (1.15.0)\n",
            "Requirement already satisfied: requests>=2.0.0 in /usr/local/lib/python3.7/dist-packages (from Sphinx->-r requirements.txt (line 6)) (2.23.0)\n",
            "Requirement already satisfied: packaging in /usr/local/lib/python3.7/dist-packages (from Sphinx->-r requirements.txt (line 6)) (21.0)\n",
            "Requirement already satisfied: imagesize in /usr/local/lib/python3.7/dist-packages (from Sphinx->-r requirements.txt (line 6)) (1.2.0)\n",
            "Requirement already satisfied: Pygments>=2.0 in /usr/local/lib/python3.7/dist-packages (from Sphinx->-r requirements.txt (line 6)) (2.6.1)\n",
            "Requirement already satisfied: babel!=2.0,>=1.3 in /usr/local/lib/python3.7/dist-packages (from Sphinx->-r requirements.txt (line 6)) (2.9.1)\n",
            "Requirement already satisfied: setuptools in /usr/local/lib/python3.7/dist-packages (from Sphinx->-r requirements.txt (line 6)) (57.4.0)\n",
            "Requirement already satisfied: Jinja2>=2.3 in /usr/local/lib/python3.7/dist-packages (from Sphinx->-r requirements.txt (line 6)) (2.11.3)\n",
            "Requirement already satisfied: pytz>=2015.7 in /usr/local/lib/python3.7/dist-packages (from babel!=2.0,>=1.3->Sphinx->-r requirements.txt (line 6)) (2018.9)\n",
            "Requirement already satisfied: MarkupSafe>=0.23 in /usr/local/lib/python3.7/dist-packages (from Jinja2>=2.3->Sphinx->-r requirements.txt (line 6)) (2.0.1)\n",
            "Requirement already satisfied: idna<3,>=2.5 in /usr/local/lib/python3.7/dist-packages (from requests>=2.0.0->Sphinx->-r requirements.txt (line 6)) (2.10)\n",
            "Requirement already satisfied: urllib3!=1.25.0,!=1.25.1,<1.26,>=1.21.1 in /usr/local/lib/python3.7/dist-packages (from requests>=2.0.0->Sphinx->-r requirements.txt (line 6)) (1.25.11)\n",
            "Requirement already satisfied: certifi>=2017.4.17 in /usr/local/lib/python3.7/dist-packages (from requests>=2.0.0->Sphinx->-r requirements.txt (line 6)) (2021.5.30)\n",
            "Requirement already satisfied: chardet<4,>=3.0.2 in /usr/local/lib/python3.7/dist-packages (from requests>=2.0.0->Sphinx->-r requirements.txt (line 6)) (3.0.4)\n",
            "Requirement already satisfied: botocore==1.23.1 in /usr/local/lib/python3.7/dist-packages (from awscli->-r requirements.txt (line 8)) (1.23.1)\n",
            "Requirement already satisfied: PyYAML<5.5,>=3.10 in /usr/local/lib/python3.7/dist-packages (from awscli->-r requirements.txt (line 8)) (3.13)\n",
            "Requirement already satisfied: s3transfer<0.6.0,>=0.5.0 in /usr/local/lib/python3.7/dist-packages (from awscli->-r requirements.txt (line 8)) (0.5.0)\n",
            "Requirement already satisfied: colorama<0.4.4,>=0.2.5 in /usr/local/lib/python3.7/dist-packages (from awscli->-r requirements.txt (line 8)) (0.4.3)\n",
            "Requirement already satisfied: rsa<4.8,>=3.1.2 in /usr/local/lib/python3.7/dist-packages (from awscli->-r requirements.txt (line 8)) (4.7.2)\n",
            "Requirement already satisfied: jmespath<1.0.0,>=0.7.1 in /usr/local/lib/python3.7/dist-packages (from botocore==1.23.1->awscli->-r requirements.txt (line 8)) (0.10.0)\n",
            "Requirement already satisfied: python-dateutil<3.0.0,>=2.1 in /usr/local/lib/python3.7/dist-packages (from botocore==1.23.1->awscli->-r requirements.txt (line 8)) (2.8.2)\n",
            "Requirement already satisfied: pyasn1>=0.1.3 in /usr/local/lib/python3.7/dist-packages (from rsa<4.8,>=3.1.2->awscli->-r requirements.txt (line 8)) (0.4.8)\n",
            "Requirement already satisfied: pyflakes<2.5.0,>=2.4.0 in /usr/local/lib/python3.7/dist-packages (from flake8->-r requirements.txt (line 9)) (2.4.0)\n",
            "Requirement already satisfied: pycodestyle<2.9.0,>=2.8.0 in /usr/local/lib/python3.7/dist-packages (from flake8->-r requirements.txt (line 9)) (2.8.0)\n",
            "Requirement already satisfied: mccabe<0.7.0,>=0.6.0 in /usr/local/lib/python3.7/dist-packages (from flake8->-r requirements.txt (line 9)) (0.6.1)\n",
            "Requirement already satisfied: importlib-metadata<4.3 in /usr/local/lib/python3.7/dist-packages (from flake8->-r requirements.txt (line 9)) (4.2.0)\n",
            "Requirement already satisfied: zipp>=0.5 in /usr/local/lib/python3.7/dist-packages (from importlib-metadata<4.3->flake8->-r requirements.txt (line 9)) (3.6.0)\n",
            "Requirement already satisfied: cython>=0.27.3 in /usr/local/lib/python3.7/dist-packages (from pycocotools->-r requirements.txt (line 16)) (0.29.24)\n",
            "Requirement already satisfied: matplotlib>=2.1.0 in /usr/local/lib/python3.7/dist-packages (from pycocotools->-r requirements.txt (line 16)) (3.2.2)\n",
            "Requirement already satisfied: pyparsing!=2.0.4,!=2.1.2,!=2.1.6,>=2.0.1 in /usr/local/lib/python3.7/dist-packages (from matplotlib>=2.1.0->pycocotools->-r requirements.txt (line 16)) (2.4.7)\n",
            "Requirement already satisfied: kiwisolver>=1.0.1 in /usr/local/lib/python3.7/dist-packages (from matplotlib>=2.1.0->pycocotools->-r requirements.txt (line 16)) (1.3.2)\n",
            "Requirement already satisfied: cycler>=0.10 in /usr/local/lib/python3.7/dist-packages (from matplotlib>=2.1.0->pycocotools->-r requirements.txt (line 16)) (0.10.0)\n",
            "Requirement already satisfied: sphinxcontrib-serializinghtml in /usr/local/lib/python3.7/dist-packages (from sphinxcontrib-websupport->Sphinx->-r requirements.txt (line 6)) (1.1.5)\n",
            "Installing collected packages: src\n",
            "  Attempting uninstall: src\n",
            "    Found existing installation: src 0.1.0\n",
            "    Can't uninstall 'src'. No files were found to uninstall.\n",
            "  Running setup.py develop for src\n",
            "Successfully installed src-0.1.0\n",
            "\u001b[31mERROR: Could not find a version that satisfies the requirement torch==1.10.0+cu111 (from versions: 0.1.2, 0.1.2.post1, 0.1.2.post2, 0.4.1, 0.4.1.post2, 1.0.0, 1.0.1, 1.0.1.post2, 1.1.0, 1.2.0, 1.3.0, 1.3.1, 1.4.0, 1.5.0, 1.5.1, 1.6.0, 1.7.0, 1.7.1, 1.8.0, 1.8.1, 1.9.0, 1.9.1, 1.10.0)\u001b[0m\n",
            "\u001b[31mERROR: No matching distribution found for torch==1.10.0+cu111\u001b[0m\n"
          ]
        }
      ]
    },
    {
      "cell_type": "code",
      "metadata": {
        "colab": {
          "base_uri": "https://localhost:8080/"
        },
        "id": "WnrjYLhnEkAr",
        "outputId": "3342eb0b-aecb-41e3-c4e7-b93beded3d2a"
      },
      "source": [
        "import os\n",
        "import src.models.TrainModel as TrainModel\n",
        "from src.data.dataset import ColaBeerDataset\n",
        "\n",
        "\n",
        "base_path = \"/content/drive/MyDrive/ 02456-deep/\"\n",
        "train_path = os.path.join(base_path, 'train')\n",
        "\n",
        "train_dataset = ColaBeerDataset(train_path)\n",
        "\n",
        "train_model = TrainModel.trainandeval()\n",
        "\n",
        "train_dataset[0]"
      ],
      "execution_count": 1,
      "outputs": [
        {
          "output_type": "execute_result",
          "data": {
            "text/plain": [
              "(tensor([[[0.3333, 0.3569, 0.3490,  ..., 0.2784, 0.3020, 0.2784],\n",
              "          [0.3529, 0.3216, 0.3059,  ..., 0.2706, 0.2863, 0.2706],\n",
              "          [0.3686, 0.3137, 0.3020,  ..., 0.2706, 0.2863, 0.2784],\n",
              "          ...,\n",
              "          [0.0157, 0.0157, 0.0196,  ..., 0.0000, 0.0000, 0.0000],\n",
              "          [0.0196, 0.0196, 0.0196,  ..., 0.0000, 0.0000, 0.0000],\n",
              "          [0.0235, 0.0235, 0.0196,  ..., 0.0000, 0.0000, 0.0000]],\n",
              " \n",
              "         [[0.2941, 0.3176, 0.2863,  ..., 0.2235, 0.2471, 0.2235],\n",
              "          [0.3137, 0.2824, 0.2431,  ..., 0.2157, 0.2314, 0.2157],\n",
              "          [0.3137, 0.2588, 0.2314,  ..., 0.2157, 0.2314, 0.2235],\n",
              "          ...,\n",
              "          [0.0157, 0.0157, 0.0196,  ..., 0.0000, 0.0000, 0.0000],\n",
              "          [0.0196, 0.0196, 0.0196,  ..., 0.0000, 0.0000, 0.0000],\n",
              "          [0.0235, 0.0235, 0.0196,  ..., 0.0000, 0.0000, 0.0000]],\n",
              " \n",
              "         [[0.2000, 0.2235, 0.1647,  ..., 0.1098, 0.1333, 0.1098],\n",
              "          [0.2196, 0.1882, 0.1216,  ..., 0.1020, 0.1176, 0.1020],\n",
              "          [0.2000, 0.1451, 0.1059,  ..., 0.1020, 0.1176, 0.1098],\n",
              "          ...,\n",
              "          [0.0000, 0.0000, 0.0000,  ..., 0.0000, 0.0000, 0.0000],\n",
              "          [0.0000, 0.0000, 0.0000,  ..., 0.0000, 0.0000, 0.0000],\n",
              "          [0.0039, 0.0039, 0.0000,  ..., 0.0000, 0.0000, 0.0000]]]),\n",
              " {'area': tensor([6166.0005]),\n",
              "  'boxes': tensor([[ 95.0900,  70.5300, 161.6200, 163.2100]]),\n",
              "  'image_id': tensor(0),\n",
              "  'iscrowd': tensor([False]),\n",
              "  'labels': tensor([1])})"
            ]
          },
          "metadata": {},
          "execution_count": 1
        }
      ]
    },
    {
      "cell_type": "code",
      "metadata": {
        "colab": {
          "base_uri": "https://localhost:8080/"
        },
        "id": "Y3FNEEXXErnY",
        "outputId": "2b1a91ea-2cf7-41da-c0ee-6abe555ce8e4"
      },
      "source": [
        "model = train_model.train(train_dataset)"
      ],
      "execution_count": 2,
      "outputs": [
        {
          "output_type": "stream",
          "name": "stdout",
          "text": [
            "Training on cuda\n"
          ]
        },
        {
          "output_type": "stream",
          "name": "stderr",
          "text": [
            "/usr/local/lib/python3.7/dist-packages/torch/utils/data/dataloader.py:481: UserWarning: This DataLoader will create 4 worker processes in total. Our suggested max number of worker in current system is 2, which is smaller than what this DataLoader is going to create. Please be aware that excessive worker creation might get DataLoader running slow or even freeze, lower the worker number to avoid potential slowness/freeze if necessary.\n",
            "  cpuset_checked))\n",
            "/usr/local/lib/python3.7/dist-packages/torch/functional.py:445: UserWarning: torch.meshgrid: in an upcoming release, it will be required to pass the indexing argument. (Triggered internally at  ../aten/src/ATen/native/TensorShape.cpp:2157.)\n",
            "  return _VF.meshgrid(tensors, **kwargs)  # type: ignore[attr-defined]\n"
          ]
        },
        {
          "output_type": "stream",
          "name": "stdout",
          "text": [
            "Epoch: [0]  [  0/219]  eta: 0:04:51  lr: 0.000028  loss: 1.7636 (1.7636)  loss_classifier: 1.0157 (1.0157)  loss_box_reg: 0.0193 (0.0193)  loss_objectness: 0.7219 (0.7219)  loss_rpn_box_reg: 0.0067 (0.0067)  time: 1.3314  data: 0.4115  max mem: 3694\n",
            "Epoch: [0]  [ 10/219]  eta: 0:02:51  lr: 0.000257  loss: 1.6126 (1.5466)  loss_classifier: 0.9028 (0.8239)  loss_box_reg: 0.0102 (0.0107)  loss_objectness: 0.7046 (0.7054)  loss_rpn_box_reg: 0.0055 (0.0066)  time: 0.8201  data: 0.0468  max mem: 4322\n",
            "Epoch: [0]  [ 20/219]  eta: 0:02:38  lr: 0.000486  loss: 1.0251 (1.1840)  loss_classifier: 0.3501 (0.5107)  loss_box_reg: 0.0101 (0.0104)  loss_objectness: 0.6670 (0.6558)  loss_rpn_box_reg: 0.0055 (0.0070)  time: 0.7682  data: 0.0105  max mem: 4322\n",
            "Epoch: [0]  [ 30/219]  eta: 0:02:28  lr: 0.000715  loss: 0.5543 (0.9488)  loss_classifier: 0.0647 (0.3594)  loss_box_reg: 0.0046 (0.0082)  loss_objectness: 0.4943 (0.5754)  loss_rpn_box_reg: 0.0045 (0.0059)  time: 0.7708  data: 0.0105  max mem: 4322\n",
            "Epoch: [0]  [ 40/219]  eta: 0:02:20  lr: 0.000944  loss: 0.3791 (0.7929)  loss_classifier: 0.0424 (0.2865)  loss_box_reg: 0.0029 (0.0077)  loss_objectness: 0.3039 (0.4932)  loss_rpn_box_reg: 0.0033 (0.0056)  time: 0.7743  data: 0.0106  max mem: 4322\n",
            "Epoch: [0]  [ 50/219]  eta: 0:02:12  lr: 0.001174  loss: 0.2218 (0.6707)  loss_classifier: 0.0424 (0.2377)  loss_box_reg: 0.0041 (0.0076)  loss_objectness: 0.1613 (0.4204)  loss_rpn_box_reg: 0.0025 (0.0050)  time: 0.7757  data: 0.0111  max mem: 4322\n",
            "Epoch: [0]  [ 60/219]  eta: 0:02:04  lr: 0.001403  loss: 0.1520 (0.5851)  loss_classifier: 0.0415 (0.2083)  loss_box_reg: 0.0063 (0.0100)  loss_objectness: 0.0948 (0.3623)  loss_rpn_box_reg: 0.0020 (0.0044)  time: 0.7762  data: 0.0108  max mem: 4322\n",
            "Epoch: [0]  [ 70/219]  eta: 0:01:56  lr: 0.001632  loss: 0.1388 (0.5269)  loss_classifier: 0.0585 (0.1899)  loss_box_reg: 0.0293 (0.0153)  loss_objectness: 0.0528 (0.3175)  loss_rpn_box_reg: 0.0017 (0.0041)  time: 0.7785  data: 0.0106  max mem: 4322\n",
            "Epoch: [0]  [ 80/219]  eta: 0:01:48  lr: 0.001861  loss: 0.1726 (0.4840)  loss_classifier: 0.0765 (0.1764)  loss_box_reg: 0.0471 (0.0209)  loss_objectness: 0.0392 (0.2829)  loss_rpn_box_reg: 0.0017 (0.0039)  time: 0.7830  data: 0.0110  max mem: 4322\n",
            "Epoch: [0]  [ 90/219]  eta: 0:01:40  lr: 0.002090  loss: 0.1615 (0.4472)  loss_classifier: 0.0765 (0.1644)  loss_box_reg: 0.0504 (0.0247)  loss_objectness: 0.0305 (0.2546)  loss_rpn_box_reg: 0.0012 (0.0035)  time: 0.7845  data: 0.0110  max mem: 4322\n",
            "Epoch: [0]  [100/219]  eta: 0:01:33  lr: 0.002319  loss: 0.1123 (0.4161)  loss_classifier: 0.0463 (0.1541)  loss_box_reg: 0.0498 (0.0274)  loss_objectness: 0.0183 (0.2313)  loss_rpn_box_reg: 0.0006 (0.0033)  time: 0.7848  data: 0.0114  max mem: 4322\n",
            "Epoch: [0]  [110/219]  eta: 0:01:25  lr: 0.002548  loss: 0.1268 (0.3927)  loss_classifier: 0.0600 (0.1468)  loss_box_reg: 0.0529 (0.0306)  loss_objectness: 0.0155 (0.2121)  loss_rpn_box_reg: 0.0005 (0.0031)  time: 0.7828  data: 0.0114  max mem: 4322\n",
            "Epoch: [0]  [120/219]  eta: 0:01:17  lr: 0.002777  loss: 0.1507 (0.3705)  loss_classifier: 0.0645 (0.1393)  loss_box_reg: 0.0579 (0.0323)  loss_objectness: 0.0148 (0.1960)  loss_rpn_box_reg: 0.0005 (0.0029)  time: 0.7834  data: 0.0110  max mem: 4322\n",
            "Epoch: [0]  [130/219]  eta: 0:01:09  lr: 0.003007  loss: 0.1382 (0.3525)  loss_classifier: 0.0590 (0.1333)  loss_box_reg: 0.0507 (0.0343)  loss_objectness: 0.0135 (0.1822)  loss_rpn_box_reg: 0.0009 (0.0028)  time: 0.7847  data: 0.0110  max mem: 4322\n",
            "Epoch: [0]  [140/219]  eta: 0:01:01  lr: 0.003236  loss: 0.1323 (0.3362)  loss_classifier: 0.0612 (0.1278)  loss_box_reg: 0.0549 (0.0355)  loss_objectness: 0.0131 (0.1702)  loss_rpn_box_reg: 0.0011 (0.0027)  time: 0.7834  data: 0.0111  max mem: 4322\n",
            "Epoch: [0]  [150/219]  eta: 0:00:54  lr: 0.003465  loss: 0.1354 (0.3229)  loss_classifier: 0.0631 (0.1235)  loss_box_reg: 0.0552 (0.0369)  loss_objectness: 0.0134 (0.1599)  loss_rpn_box_reg: 0.0008 (0.0026)  time: 0.7823  data: 0.0109  max mem: 4322\n",
            "Epoch: [0]  [160/219]  eta: 0:00:46  lr: 0.003694  loss: 0.1391 (0.3123)  loss_classifier: 0.0657 (0.1201)  loss_box_reg: 0.0564 (0.0389)  loss_objectness: 0.0156 (0.1509)  loss_rpn_box_reg: 0.0012 (0.0025)  time: 0.7818  data: 0.0106  max mem: 4322\n",
            "Epoch: [0]  [170/219]  eta: 0:00:38  lr: 0.003923  loss: 0.1321 (0.3010)  loss_classifier: 0.0603 (0.1162)  loss_box_reg: 0.0569 (0.0396)  loss_objectness: 0.0125 (0.1429)  loss_rpn_box_reg: 0.0009 (0.0024)  time: 0.7810  data: 0.0109  max mem: 4322\n",
            "Epoch: [0]  [180/219]  eta: 0:00:30  lr: 0.004152  loss: 0.1321 (0.2920)  loss_classifier: 0.0603 (0.1130)  loss_box_reg: 0.0570 (0.0408)  loss_objectness: 0.0137 (0.1358)  loss_rpn_box_reg: 0.0010 (0.0024)  time: 0.7814  data: 0.0110  max mem: 4322\n",
            "Epoch: [0]  [190/219]  eta: 0:00:22  lr: 0.004381  loss: 0.1336 (0.2827)  loss_classifier: 0.0553 (0.1096)  loss_box_reg: 0.0639 (0.0416)  loss_objectness: 0.0132 (0.1292)  loss_rpn_box_reg: 0.0009 (0.0023)  time: 0.7834  data: 0.0110  max mem: 4322\n",
            "Epoch: [0]  [200/219]  eta: 0:00:14  lr: 0.004610  loss: 0.1180 (0.2749)  loss_classifier: 0.0495 (0.1068)  loss_box_reg: 0.0580 (0.0424)  loss_objectness: 0.0102 (0.1234)  loss_rpn_box_reg: 0.0009 (0.0022)  time: 0.7823  data: 0.0108  max mem: 4322\n",
            "Epoch: [0]  [210/219]  eta: 0:00:07  lr: 0.004840  loss: 0.1139 (0.2672)  loss_classifier: 0.0489 (0.1040)  loss_box_reg: 0.0509 (0.0430)  loss_objectness: 0.0102 (0.1180)  loss_rpn_box_reg: 0.0008 (0.0022)  time: 0.7793  data: 0.0106  max mem: 4322\n",
            "Epoch: [0]  [218/219]  eta: 0:00:00  lr: 0.005000  loss: 0.1087 (0.2627)  loss_classifier: 0.0455 (0.1023)  loss_box_reg: 0.0509 (0.0440)  loss_objectness: 0.0099 (0.1142)  loss_rpn_box_reg: 0.0007 (0.0022)  time: 0.7607  data: 0.0101  max mem: 4322\n",
            "Epoch: [0] Total time: 0:02:51 (0.7813 s / it)\n"
          ]
        }
      ]
    },
    {
      "cell_type": "code",
      "metadata": {
        "id": "zfBQ0mAbQ6od"
      },
      "source": [
        "import torch\n",
        "model.to(\"cpu\")\n",
        "torch.save(model.state_dict(), \"model.pth\")"
      ],
      "execution_count": 6,
      "outputs": []
    },
    {
      "cell_type": "code",
      "metadata": {
        "id": "9l8xRTfHaAvh"
      },
      "source": [
        ""
      ],
      "execution_count": null,
      "outputs": []
    }
  ]
}